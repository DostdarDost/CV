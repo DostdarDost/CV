{
  "nbformat": 4,
  "nbformat_minor": 0,
  "metadata": {
    "colab": {
      "provenance": [],
      "authorship_tag": "ABX9TyMYDFi9W0pd7ET/qcTnDLow",
      "include_colab_link": true
    },
    "kernelspec": {
      "name": "python3",
      "display_name": "Python 3"
    },
    "language_info": {
      "name": "python"
    }
  },
  "cells": [
    {
      "cell_type": "markdown",
      "metadata": {
        "id": "view-in-github",
        "colab_type": "text"
      },
      "source": [
        "<a href=\"https://colab.research.google.com/github/DostdarDost/CV/blob/main/Module_01_lab_02.ipynb\" target=\"_parent\"><img src=\"https://colab.research.google.com/assets/colab-badge.svg\" alt=\"Open In Colab\"/></a>"
      ]
    },
    {
      "cell_type": "markdown",
      "source": [
        "# Module-01, Python Crash Course\n",
        ">\n",
        ">># Control Flow and Loops\n",
        "### 1. Conditional statements\n",
        "\n",
        "*   if\n",
        "*   elif\n",
        "*   else\n"
      ],
      "metadata": {
        "id": "iVXoNNCr3QHb"
      }
    },
    {
      "cell_type": "code",
      "source": [
        "a=2\n",
        "if a<3\n",
        "print(a)"
      ],
      "metadata": {
        "id": "hnam5jdG4JAU"
      },
      "execution_count": null,
      "outputs": []
    },
    {
      "cell_type": "code",
      "execution_count": null,
      "metadata": {
        "id": "HBFNj5df3LF_"
      },
      "outputs": [],
      "source": []
    }
  ]
}