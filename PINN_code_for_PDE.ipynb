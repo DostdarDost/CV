{
  "nbformat": 4,
  "nbformat_minor": 0,
  "metadata": {
    "colab": {
      "provenance": [],
      "authorship_tag": "ABX9TyMJ7yyhcvXm06N+ctXxa9Jv",
      "include_colab_link": true
    },
    "kernelspec": {
      "name": "python3",
      "display_name": "Python 3"
    },
    "language_info": {
      "name": "python"
    }
  },
  "cells": [
    {
      "cell_type": "markdown",
      "metadata": {
        "id": "view-in-github",
        "colab_type": "text"
      },
      "source": [
        "<a href=\"https://colab.research.google.com/github/DostdarDost/CV/blob/main/PINN_code_for_PDE.ipynb\" target=\"_parent\"><img src=\"https://colab.research.google.com/assets/colab-badge.svg\" alt=\"Open In Colab\"/></a>"
      ]
    },
    {
      "cell_type": "markdown",
      "source": [
        "# Sample Code for PDE Using PINN"
      ],
      "metadata": {
        "id": "LWV-C-DZjNGN"
      }
    },
    {
      "cell_type": "code",
      "execution_count": 1,
      "metadata": {
        "id": "EkLCsbQnjCnK"
      },
      "outputs": [],
      "source": [
        "def u(t,x):\n",
        "  u=neural_net(tf.concat([t,x],1), weights,biases)\n",
        "  return u"
      ]
    },
    {
      "cell_type": "code",
      "source": [
        "def f(t,x):\n",
        "  u=u(t,x)\n",
        "  u_t =tf.gradients(u,t)[0]\n",
        "  u_x =tf.gradients(u,x)[0]\n",
        "  u_xx =tf.gradients(u_x,x)[0]\n",
        "  f= u_t +u*(u_xx)\n",
        "  return f"
      ],
      "metadata": {
        "id": "KkhI8d7ij3Ja"
      },
      "execution_count": 3,
      "outputs": []
    }
  ]
}